{
 "cells": [
  {
   "cell_type": "code",
   "execution_count": 2,
   "metadata": {},
   "outputs": [
    {
     "data": {
      "text/plain": [
       "['os.json',\n",
       " 'typescript.json',\n",
       " 'yarn.lock',\n",
       " 'storybook.json',\n",
       " 'manage.json',\n",
       " 'json-view.json',\n",
       " 'lint.json',\n",
       " 'merged.json',\n",
       " 'scripts.json',\n",
       " 'markdown.json',\n",
       " 'mui.json',\n",
       " 'html-viewer.json',\n",
       " 'parkdown.json',\n",
       " 'gh-pages.json',\n",
       " 'base.json',\n",
       " 'vite.json']"
      ]
     },
     "execution_count": 2,
     "metadata": {},
     "output_type": "execute_result"
    }
   ],
   "source": [
    "import os\n",
    "\n",
    "contents = os.listdir('../setups/packages')\n",
    "\n",
    "contents"
   ]
  },
  {
   "cell_type": "code",
   "execution_count": 7,
   "metadata": {},
   "outputs": [],
   "source": [
    "for item in contents:\n",
    "    if item.startswith(\"package\"):\n",
    "        text = open(item).read()\n",
    "        open(item.replace(\"package.\", \"\"), \"w\").write(text)"
   ]
  },
  {
   "cell_type": "code",
   "execution_count": null,
   "metadata": {},
   "outputs": [],
   "source": []
  }
 ],
 "metadata": {
  "kernelspec": {
   "display_name": "base",
   "language": "python",
   "name": "python3"
  },
  "language_info": {
   "codemirror_mode": {
    "name": "ipython",
    "version": 3
   },
   "file_extension": ".py",
   "mimetype": "text/x-python",
   "name": "python",
   "nbconvert_exporter": "python",
   "pygments_lexer": "ipython3",
   "version": "3.12.2"
  }
 },
 "nbformat": 4,
 "nbformat_minor": 2
}
