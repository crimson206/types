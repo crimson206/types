{
 "cells": [
  {
   "cell_type": "markdown",
   "metadata": {},
   "source": [
    "## Import"
   ]
  },
  {
   "cell_type": "code",
   "execution_count": 1,
   "metadata": {},
   "outputs": [],
   "source": [
    "from typing import List\n",
    "from pydantic import BaseModel, ConfigDict\n",
    "from crimson.types_beta.addon.pydantic import PydanticCompatible\n"
   ]
  },
  {
   "cell_type": "markdown",
   "metadata": {},
   "source": [
    "## BaseModel Typecheck Failure\n",
    "\n",
    "Let's prepare some classes first."
   ]
  },
  {
   "cell_type": "code",
   "execution_count": 2,
   "metadata": {},
   "outputs": [],
   "source": [
    "class MyType(List[int]):\n",
    "    \"\"\"\n",
    "    My Custom\n",
    "    \"\"\"\n",
    "    \n",
    "class MyProps(BaseModel):\n",
    "    my_arg: MyType\n",
    "\n",
    "    model_config = ConfigDict(arbitrary_types_allowed=True)"
   ]
  },
  {
   "cell_type": "markdown",
   "metadata": {},
   "source": [
    "If we annotate a field of the `BaseModel` using our custom type,\n",
    "\n",
    "could we set `my_arg` using the innertype instance of our custom type?"
   ]
  },
  {
   "cell_type": "code",
   "execution_count": 3,
   "metadata": {},
   "outputs": [
    {
     "name": "stdout",
     "output_type": "stream",
     "text": [
      "1 validation error for MyProps\n",
      "my_arg\n",
      "  Input should be an instance of MyType [type=is_instance_of, input_value=[1, 2, 3], input_type=list]\n",
      "    For further information visit https://errors.pydantic.dev/2.9/v/is_instance_of\n"
     ]
    }
   ],
   "source": [
    "try:\n",
    "\tMyProps(\n",
    "\t\tmy_arg = [1, 2, 3]\n",
    "\t)\n",
    "except Exception as e:\n",
    "\tprint(e)"
   ]
  },
  {
   "cell_type": "markdown",
   "metadata": {},
   "source": [
    "No, it is not possible.\n",
    "\n",
    "Therefore, we use `PydanticCompatible`."
   ]
  },
  {
   "cell_type": "code",
   "execution_count": 4,
   "metadata": {},
   "outputs": [
    {
     "data": {
      "text/plain": [
       "MyProps(my_arg=[1, 2, 3])"
      ]
     },
     "execution_count": 4,
     "metadata": {},
     "output_type": "execute_result"
    }
   ],
   "source": [
    "class MyCompatibleType(List[int], PydanticCompatible):\n",
    "    \"\"\"\n",
    "    My Custom\n",
    "    \"\"\"\n",
    "    \n",
    "class MyProps(BaseModel):\n",
    "    my_arg: MyCompatibleType\n",
    "    \n",
    "MyProps(\n",
    "\tmy_arg = [1, 2, 3]\n",
    ")\n"
   ]
  },
  {
   "cell_type": "markdown",
   "metadata": {},
   "source": [
    "Now, our custom type behaves like `List[int]` in `BaseModel` without any error.\n",
    "\n",
    "* Note that, we don't even add the `model_config = ConfigDict(arbitrary_types_allowed=True)`.\n"
   ]
  },
  {
   "cell_type": "markdown",
   "metadata": {},
   "source": [
    "## Position of InnerType\n",
    "\n",
    "In the default setting, we must place the innertype in the first place of the bases.\n",
    "\n",
    "It is not always desirable. We sometimes want to place it in other positions for some reasons.\n",
    "\n",
    "In that case, specify the positing by setting `validate_base_index`."
   ]
  },
  {
   "cell_type": "code",
   "execution_count": 5,
   "metadata": {},
   "outputs": [
    {
     "data": {
      "text/plain": [
       "MyProps(my_arg=[1, 2, 3])"
      ]
     },
     "execution_count": 5,
     "metadata": {},
     "output_type": "execute_result"
    }
   ],
   "source": [
    "class MyCompatibleType(PydanticCompatible, List[int]):\n",
    "    \"\"\"\n",
    "    My Custom\n",
    "    \"\"\"\n",
    "    \n",
    "    validate_base_index = 1\n",
    "\n",
    "class MyProps(BaseModel):\n",
    "    my_arg: MyCompatibleType\n",
    "    \n",
    "MyProps(\n",
    "\tmy_arg = [1, 2, 3]\n",
    ")"
   ]
  },
  {
   "cell_type": "markdown",
   "metadata": {},
   "source": [
    "Otherwise, it will cause the error as below"
   ]
  },
  {
   "cell_type": "code",
   "execution_count": 6,
   "metadata": {},
   "outputs": [
    {
     "name": "stdout",
     "output_type": "stream",
     "text": [
      "The innertype of your custom type class must be placed as the first base of the type class as default. If you want to place it another position, specify the position using `validate_base_index`. See the link, https://github.com/crimson206/types/blob/main/example/addon/pydantic_compatible.ipynb\n"
     ]
    }
   ],
   "source": [
    "class MyCompatibleType(PydanticCompatible, List[int]):\n",
    "    \"\"\"\n",
    "    My Custom\n",
    "    \"\"\"\n",
    "\n",
    "\n",
    "class MyProps(BaseModel):\n",
    "    my_arg: MyCompatibleType\n",
    "\n",
    "try:\n",
    "\tMyProps(\n",
    "\t\tmy_arg = [1, 2, 3]\n",
    "\t)\n",
    "except Exception as e:\n",
    "    print(e)"
   ]
  }
 ],
 "metadata": {
  "kernelspec": {
   "display_name": "types-beta",
   "language": "python",
   "name": "python3"
  },
  "language_info": {
   "codemirror_mode": {
    "name": "ipython",
    "version": 3
   },
   "file_extension": ".py",
   "mimetype": "text/x-python",
   "name": "python",
   "nbconvert_exporter": "python",
   "pygments_lexer": "ipython3",
   "version": "3.12.7"
  }
 },
 "nbformat": 4,
 "nbformat_minor": 2
}
