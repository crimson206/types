{
 "cells": [
  {
   "cell_type": "code",
   "execution_count": 7,
   "metadata": {},
   "outputs": [
    {
     "name": "stdout",
     "output_type": "stream",
     "text": [
      "type 'CommonClass' is not subscriptable\n"
     ]
    }
   ],
   "source": [
    "from crimson.types_beta.addon.annotated import AnnotatedType, annotated_type\n",
    "\n",
    "\n",
    "class CommonClass(str):\n",
    "    pass\n",
    "\n",
    "\n",
    "try:\n",
    "\tCommonClass[\"Any Meta Data\", [1, 3, 4]]\n",
    "except Exception as e:\n",
    "    print(e)"
   ]
  },
  {
   "cell_type": "code",
   "execution_count": 4,
   "metadata": {},
   "outputs": [
    {
     "data": {
      "text/plain": [
       "('Any Meta Data', [1, 3, 4])"
      ]
     },
     "execution_count": 4,
     "metadata": {},
     "output_type": "execute_result"
    }
   ],
   "source": [
    "class CustomType(AnnotatedType, str):\n",
    "    \"\"\"\n",
    "    Enhances str with built-in metadata annotation support.\n",
    "\n",
    "    By inheriting from AnnotatedType, this class directly implements\n",
    "    metadata annotation functionality. Use square brackets to provide\n",
    "    additional information, e.g., CustomType2[max_length, encoding].\n",
    "\n",
    "    This approach offers more control over annotation behavior\n",
    "    compared to the @annotate decorator method.\n",
    "    \"\"\"\n",
    "    \n",
    "def func(arg: CustomType[\"Any Meta Data\", [1, 3, 4]]):\n",
    "    arg.split\n",
    "    pass\n",
    "\n",
    "CustomType.__metadata__"
   ]
  },
  {
   "cell_type": "code",
   "execution_count": 8,
   "metadata": {},
   "outputs": [
    {
     "data": {
      "text/plain": [
       "__main__.CustomType"
      ]
     },
     "execution_count": 8,
     "metadata": {},
     "output_type": "execute_result"
    }
   ],
   "source": [
    "@annotated_type\n",
    "class CustomType(str):\n",
    "    \"\"\"\n",
    "    Annotatible Custom Type\n",
    "    \"\"\"\n",
    "\n",
    "CustomType[1, 2, 3]"
   ]
  },
  {
   "cell_type": "code",
   "execution_count": 10,
   "metadata": {},
   "outputs": [
    {
     "data": {
      "text/plain": [
       "(1, 2, 3)"
      ]
     },
     "execution_count": 10,
     "metadata": {},
     "output_type": "execute_result"
    }
   ],
   "source": [
    "CustomType.__metadata__"
   ]
  }
 ],
 "metadata": {
  "kernelspec": {
   "display_name": "types-beta",
   "language": "python",
   "name": "python3"
  },
  "language_info": {
   "codemirror_mode": {
    "name": "ipython",
    "version": 3
   },
   "file_extension": ".py",
   "mimetype": "text/x-python",
   "name": "python",
   "nbconvert_exporter": "python",
   "pygments_lexer": "ipython3",
   "version": "3.12.7"
  }
 },
 "nbformat": 4,
 "nbformat_minor": 2
}
