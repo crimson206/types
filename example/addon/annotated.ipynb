{
 "cells": [
  {
   "cell_type": "code",
   "execution_count": 1,
   "metadata": {},
   "outputs": [],
   "source": [
    "from crimson.types_beta.addon.annotated import AnnotatedType\n",
    "\n",
    "\n",
    "class CustomType(AnnotatedType, str):\n",
    "    \"\"\"\n",
    "    Enhances str with built-in metadata annotation support.\n",
    "\n",
    "    By inheriting from AnnotatedType, this class directly implements\n",
    "    metadata annotation functionality. Use square brackets to provide\n",
    "    additional information, e.g., CustomType2[max_length, encoding].\n",
    "\n",
    "    This approach offers more control over annotation behavior\n",
    "    compared to the @annotate decorator method.\n",
    "    \"\"\"\n",
    "    \n",
    "def func(arg: CustomType[\"Any Meta Data\", [1, 3, 4]]):\n",
    "    arg.split\n",
    "    pass"
   ]
  }
 ],
 "metadata": {
  "kernelspec": {
   "display_name": "types-beta",
   "language": "python",
   "name": "python3"
  },
  "language_info": {
   "codemirror_mode": {
    "name": "ipython",
    "version": 3
   },
   "file_extension": ".py",
   "mimetype": "text/x-python",
   "name": "python",
   "nbconvert_exporter": "python",
   "pygments_lexer": "ipython3",
   "version": "3.11.9"
  }
 },
 "nbformat": 4,
 "nbformat_minor": 2
}
