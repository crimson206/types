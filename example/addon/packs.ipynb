{
 "cells": [
  {
   "cell_type": "code",
   "execution_count": 1,
   "metadata": {},
   "outputs": [],
   "source": [
    "from crimson.types_beta.addon import TypesPack, T\n",
    "from typing import List\n",
    "\n",
    "class CustomType(TypesPack[T], List[int]):\n",
    "    \"\"\"\n",
    "    my type with various type addons\n",
    "    \"\"\"\n",
    "\n",
    "    validate_base_index = 1\n"
   ]
  },
  {
   "cell_type": "markdown",
   "metadata": {},
   "source": [
    "## Annotatible\n"
   ]
  },
  {
   "cell_type": "code",
   "execution_count": 2,
   "metadata": {},
   "outputs": [
    {
     "data": {
      "text/plain": [
       "(typing.List[int], 1, 2)"
      ]
     },
     "execution_count": 2,
     "metadata": {},
     "output_type": "execute_result"
    }
   ],
   "source": [
    "CustomType[List[int], 1, 2]\n",
    "\n",
    "CustomType.__metadata__"
   ]
  },
  {
   "cell_type": "markdown",
   "metadata": {},
   "source": [
    "## AutoCompletion Preserved"
   ]
  },
  {
   "cell_type": "code",
   "execution_count": 3,
   "metadata": {},
   "outputs": [
    {
     "data": {
      "text/plain": [
       "<method 'append' of 'list' objects>"
      ]
     },
     "execution_count": 3,
     "metadata": {},
     "output_type": "execute_result"
    }
   ],
   "source": [
    "a = CustomType\n",
    "\n",
    "a.append\n"
   ]
  },
  {
   "cell_type": "markdown",
   "metadata": {},
   "source": [
    "## Intellisense Support\n"
   ]
  },
  {
   "cell_type": "code",
   "execution_count": 4,
   "metadata": {},
   "outputs": [],
   "source": [
    "def func(arg: CustomType[List[int]]):\n",
    "    pass\n"
   ]
  },
  {
   "cell_type": "markdown",
   "metadata": {},
   "source": [
    "![hover](./static/addonpack_intellhover.png)"
   ]
  },
  {
   "cell_type": "markdown",
   "metadata": {},
   "source": [
    "## Pydantic Compatible"
   ]
  },
  {
   "cell_type": "code",
   "execution_count": 5,
   "metadata": {},
   "outputs": [
    {
     "data": {
      "text/plain": [
       "[1, 2, 3]"
      ]
     },
     "execution_count": 5,
     "metadata": {},
     "output_type": "execute_result"
    }
   ],
   "source": [
    "from pydantic import BaseModel, ConfigDict\n",
    "\n",
    "\n",
    "class MyProps(BaseModel):\n",
    "    my_arg: CustomType\n",
    "    \n",
    "props = MyProps(\n",
    "\tmy_arg = [1, 2, 3]\n",
    ")\n",
    "\n",
    "props.my_arg"
   ]
  },
  {
   "cell_type": "markdown",
   "metadata": {},
   "source": [
    "## Debugging"
   ]
  },
  {
   "cell_type": "markdown",
   "metadata": {},
   "source": [
    "### Any Type\n",
    "\n",
    "typing.Any is not considered as a type, and it caused an error.\n",
    "\n",
    "To fix the problem,\n",
    "\n",
    "- replaced `cls.__orig_bases__` by `cls.__bases__`\n",
    "- replaced `cls(value)` by `return cast(Type[cls], value)`\n"
   ]
  },
  {
   "cell_type": "code",
   "execution_count": 6,
   "metadata": {},
   "outputs": [
    {
     "data": {
      "text/plain": [
       "[1, 2, 3]"
      ]
     },
     "execution_count": 6,
     "metadata": {},
     "output_type": "execute_result"
    }
   ],
   "source": [
    "from typing import Any\n",
    "\n",
    "class CustomType(Any, TypesPack[T]):\n",
    "    \"\"\"\n",
    "    my type with various type addons\n",
    "    \"\"\"\n",
    "    \n",
    "class MyProps(BaseModel):\n",
    "    my_arg: CustomType\n",
    "\n",
    "    \n",
    "props = MyProps(\n",
    "\tmy_arg = [1, 2, 3]\n",
    ")\n",
    "\n",
    "props.my_arg"
   ]
  }
 ],
 "metadata": {
  "kernelspec": {
   "display_name": "types-beta",
   "language": "python",
   "name": "python3"
  },
  "language_info": {
   "codemirror_mode": {
    "name": "ipython",
    "version": 3
   },
   "file_extension": ".py",
   "mimetype": "text/x-python",
   "name": "python",
   "nbconvert_exporter": "python",
   "pygments_lexer": "ipython3",
   "version": "3.12.7"
  }
 },
 "nbformat": 4,
 "nbformat_minor": 2
}
