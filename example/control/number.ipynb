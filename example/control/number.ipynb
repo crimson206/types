{
 "cells": [
  {
   "cell_type": "code",
   "execution_count": 1,
   "metadata": {},
   "outputs": [],
   "source": [
    "from crimson.types.control.number import IntRange, FloatRange\n",
    "\n",
    "\n",
    "def case1(dropout: FloatRange[float, 0, 1]):\n",
    "    \"\"\"\n",
    "    Looks Prettier\n",
    "    \"\"\"\n",
    "    # arg was annotated properly\n",
    "    dropout.imag \n",
    "    pass\n",
    "\n",
    "def case2(dropout: FloatRange[float, r'(0,1]]']):\n",
    "    \"\"\"\n",
    "    Strict information can be given\n",
    "    \"\"\"\n",
    "    dropout.imag\n",
    "    pass\n",
    "\n",
    "def case3(depth: IntRange[int, 3, 12]):\n",
    "    \"\"\"\n",
    "    We need different Custom types for different base types.\n",
    "    \n",
    "    See Below.\n",
    "    \"\"\"\n",
    "    depth.real\n",
    "    pass\n"
   ]
  },
  {
   "cell_type": "code",
   "execution_count": 2,
   "metadata": {},
   "outputs": [],
   "source": [
    "from typing import TypeVar, Generic, Type, Union\n",
    "\n",
    "Num = TypeVar(\"Num\", bound=Union[int, float])\n",
    "\n",
    "class AnyRange(Generic[Num]):\n",
    "    pass\n",
    "\n",
    "\n",
    "def case4(dropout: AnyRange[float]):\n",
    "    # AnyRange[float] is not `float`.\n",
    "    # I won't explain why. For more details, study the `Generic type`.\n",
    "    dropout.imag"
   ]
  }
 ],
 "metadata": {
  "kernelspec": {
   "display_name": "types",
   "language": "python",
   "name": "python3"
  },
  "language_info": {
   "codemirror_mode": {
    "name": "ipython",
    "version": 3
   },
   "file_extension": ".py",
   "mimetype": "text/x-python",
   "name": "python",
   "nbconvert_exporter": "python",
   "pygments_lexer": "ipython3",
   "version": "3.10.16"
  }
 },
 "nbformat": 4,
 "nbformat_minor": 2
}
