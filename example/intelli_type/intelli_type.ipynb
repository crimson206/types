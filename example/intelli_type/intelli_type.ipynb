{
 "cells": [
  {
   "cell_type": "code",
   "execution_count": 2,
   "metadata": {},
   "outputs": [],
   "source": [
    "from crimson.types_beta.intelli_type import IntelliHolder, T\n",
    "from typing import Tuple\n",
    "\n",
    "class CumstomType(Tuple[int, str], IntelliHolder[T]):\n",
    "\t\"\"\"\n",
    "\tCustomType with complex structure init.\\n\n",
    "\tWe want to expose its inner structure by hover.\\n\n",
    "\tTherefore, we let this type hold `IntelliHolder[T]`\\n\n",
    "\t\"\"\"\n"
   ]
  },
  {
   "cell_type": "code",
   "execution_count": null,
   "metadata": {},
   "outputs": [],
   "source": [
    "\n",
    "\n",
    "def intelli_holder_example(arg1: CumstomType[Tuple[int, str]]) -> None:\n",
    "    pass"
   ]
  },
  {
   "cell_type": "markdown",
   "metadata": {},
   "source": [
    "If you hover on the function, you must see the intellisense like below,\n",
    "\n",
    "![hover](./hover.png)"
   ]
  }
 ],
 "metadata": {
  "kernelspec": {
   "display_name": "types-beta",
   "language": "python",
   "name": "python3"
  },
  "language_info": {
   "codemirror_mode": {
    "name": "ipython",
    "version": 3
   },
   "file_extension": ".py",
   "mimetype": "text/x-python",
   "name": "python",
   "nbconvert_exporter": "python",
   "pygments_lexer": "ipython3",
   "version": "3.11.9"
  }
 },
 "nbformat": 4,
 "nbformat_minor": 2
}
