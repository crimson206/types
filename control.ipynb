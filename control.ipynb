{
 "cells": [
  {
   "cell_type": "code",
   "execution_count": null,
   "metadata": {},
   "outputs": [],
   "source": [
    "# For python modules,\n",
    "# Use in dev repository"
   ]
  },
  {
   "cell_type": "code",
   "execution_count": 1,
   "metadata": {},
   "outputs": [],
   "source": [
    "from crimson.file_loader import collect_files"
   ]
  },
  {
   "cell_type": "code",
   "execution_count": 2,
   "metadata": {},
   "outputs": [],
   "source": [
    "def my_editor(text:str)->str:\n",
    "    text = text.replace('..%', '')\n",
    "    return text"
   ]
  },
  {
   "cell_type": "code",
   "execution_count": 10,
   "metadata": {},
   "outputs": [
    {
     "name": "stdout",
     "output_type": "stream",
     "text": [
      "Files collected from ./ to ./flatten_module\n"
     ]
    }
   ],
   "source": [
    "collect_files(\n",
    "    '../',\n",
    "    './flatten_module',\n",
    "    includes=['src/', 'test/'],\n",
    "    excludes=['egg-info', 'cache'],\n",
    "    post_path_editor=my_editor\n",
    ")"
   ]
  },
  {
   "cell_type": "code",
   "execution_count": 1,
   "metadata": {},
   "outputs": [],
   "source": [
    "import os\n",
    "import nbformat\n",
    "from nbformat.reader import NotJSONError\n",
    "\n",
    "def convert_ipynb_to_py(root_dir: str, output_dir: str, editor=lambda x: x):\n",
    "    \"\"\"\n",
    "    Convert .ipynb files under `root_dir` to .py files in `output_dir`.\n",
    "\n",
    "    Args:\n",
    "        root_dir (str): Input directory containing .ipynb files\n",
    "        output_dir (str): Target directory to save .py files\n",
    "        editor (Callable[[str], str]): Function to edit file name (without extension)\n",
    "    \"\"\"\n",
    "    for dirpath, _, filenames in os.walk(root_dir):\n",
    "        for fname in filenames:\n",
    "            if not fname.endswith(\".ipynb\"):\n",
    "                continue\n",
    "\n",
    "            full_input_path = os.path.join(dirpath, fname)\n",
    "            rel_path = os.path.relpath(full_input_path, root_dir)\n",
    "            rel_dir = os.path.dirname(rel_path)\n",
    "            base_name = os.path.splitext(os.path.basename(fname))[0]\n",
    "\n",
    "            edited_name = editor(base_name) + \".py\"\n",
    "            target_dir = os.path.join(output_dir, rel_dir)\n",
    "            os.makedirs(target_dir, exist_ok=True)\n",
    "            full_output_path = os.path.join(target_dir, edited_name)\n",
    "\n",
    "            try:\n",
    "                nb = nbformat.read(full_input_path, as_version=4)\n",
    "                code_cells = [\n",
    "                    cell.source for cell in nb.cells if cell.cell_type == \"code\"\n",
    "                ]\n",
    "                with open(full_output_path, \"w\", encoding=\"utf-8\") as f:\n",
    "                    f.write(\"# Converted from: \" + fname + \"\\n\\n\")\n",
    "                    f.write(\"\\n\\n\".join(code_cells))\n",
    "                print(f\"[✔] Converted: {rel_path} → {edited_name}\")\n",
    "            except NotJSONError:\n",
    "                print(f\"[✘] Skipped invalid notebook: {rel_path}\")\n"
   ]
  },
  {
   "cell_type": "code",
   "execution_count": null,
   "metadata": {},
   "outputs": [
    {
     "name": "stdout",
     "output_type": "stream",
     "text": [
      "[✔] Converted: control/number.ipynb → test_number.py\n",
      "[✔] Converted: addon/pydantic_compatible.ipynb → test_pydantic_compatible.py\n",
      "[✔] Converted: addon/packs.ipynb → test_packs.py\n",
      "[✔] Converted: addon/intelli_type.ipynb → test_intelli_type.py\n",
      "[✔] Converted: addon/annotated.ipynb → test_annotated.py\n"
     ]
    }
   ],
   "source": [
    "def editor(text: str) -> str:\n",
    "\t# Example editor function to modify the file name\n",
    "\treturn \"test_\" + text.replace(\".ipynb\", \".py\")\n",
    "\n",
    "convert_ipynb_to_py(root_dir=\"./example\", output_dir=\"./test\",editor=editor)"
   ]
  },
  {
   "cell_type": "code",
   "execution_count": 3,
   "metadata": {},
   "outputs": [],
   "source": [
    "import os\n",
    "import subprocess\n",
    "\n",
    "def format_py_files_with_black(directory: str):\n",
    "    \"\"\"\n",
    "    Apply Black formatting to all .py files in the given directory (non-recursive).\n",
    "\n",
    "    Args:\n",
    "        directory (str): Path to the directory containing Python files\n",
    "    \"\"\"\n",
    "    files = [\n",
    "        os.path.join(directory, f)\n",
    "        for f in os.listdir(directory)\n",
    "        if f.endswith(\".py\") and os.path.isfile(os.path.join(directory, f))\n",
    "    ]\n",
    "\n",
    "    if not files:\n",
    "        print(\"[ℹ] No .py files found in:\", directory)\n",
    "        return\n",
    "\n",
    "    try:\n",
    "        subprocess.run([\"black\", *files], check=True)\n",
    "        print(f\"[✔] Formatted {len(files)} file(s) with Black in '{directory}'\")\n",
    "    except subprocess.CalledProcessError as e:\n",
    "        print(f\"[✘] Black formatting failed: {e}\")\n"
   ]
  },
  {
   "cell_type": "code",
   "execution_count": 6,
   "metadata": {},
   "outputs": [
    {
     "name": "stdout",
     "output_type": "stream",
     "text": [
      "[✔] Formatted 4 file(s) with Black in './test/addon'\n"
     ]
    },
    {
     "name": "stderr",
     "output_type": "stream",
     "text": [
      "reformatted test/addon/test_annotated.py\n",
      "reformatted test/addon/test_pydantic_compatible.py\n",
      "\n",
      "All done! ✨ 🍰 ✨\n",
      "2 files reformatted, 2 files left unchanged.\n"
     ]
    }
   ],
   "source": [
    "format_py_files_with_black(\"./test/addon\")"
   ]
  },
  {
   "cell_type": "code",
   "execution_count": 4,
   "metadata": {},
   "outputs": [],
   "source": [
    "from black import format_file_in_place, FileMode, WriteBack\n",
    "from pathlib import Path\n",
    "import os\n",
    "\n",
    "def format_file(path: str):\n",
    "    \"\"\"\n",
    "    Format a single Python file using Black's Python API.\n",
    "    \"\"\"\n",
    "    file_path = Path(path)\n",
    "    if not file_path.exists() or not file_path.suffix == \".py\":\n",
    "        print(f\"[!] Skipped non-.py file: {file_path}\")\n",
    "        return\n",
    "\n",
    "    changed = format_file_in_place(\n",
    "        file_path,\n",
    "        fast=False,\n",
    "        mode=FileMode(),\n",
    "        write_back=WriteBack.YES\n",
    "    )\n",
    "    if changed:\n",
    "        print(f\"[✔] Formatted: {file_path}\")\n",
    "    else:\n",
    "        print(f\"[✓] Already formatted: {file_path}\")\n"
   ]
  },
  {
   "cell_type": "code",
   "execution_count": 5,
   "metadata": {},
   "outputs": [],
   "source": [
    "def format_all_py_files_in_dir(directory: str):\n",
    "    for fname in os.listdir(directory):\n",
    "        full_path = os.path.join(directory, fname)\n",
    "        if fname.endswith(\".py\") and os.path.isfile(full_path):\n",
    "            format_file(full_path)\n"
   ]
  },
  {
   "cell_type": "code",
   "execution_count": 9,
   "metadata": {},
   "outputs": [],
   "source": [
    "from black import format_file_in_place, FileMode, WriteBack\n",
    "from pathlib import Path\n",
    "\n",
    "def format_all_py_files_recursive(root_dir: str):\n",
    "    \"\"\"\n",
    "    Recursively apply Black formatting to all .py files under `root_dir`.\n",
    "\n",
    "    Args:\n",
    "        root_dir (str): Root directory to walk through\n",
    "    \"\"\"\n",
    "    root = Path(root_dir)\n",
    "    count = 0\n",
    "\n",
    "    for file_path in root.rglob(\"*.py\"):  # <-- 핵심: 재귀적으로 .py 파일 찾기\n",
    "        if file_path.is_file():\n",
    "            changed = format_file_in_place(\n",
    "                file_path,\n",
    "                fast=False,\n",
    "                mode=FileMode(),\n",
    "                write_back=WriteBack.YES\n",
    "            )\n",
    "            msg = \"✔ Formatted\" if changed else \"✓ Already formatted\"\n",
    "            print(f\"[{msg}] {file_path}\")\n",
    "            count += 1\n",
    "\n",
    "    print(f\"\\n✅ Total files processed: {count}\")\n"
   ]
  },
  {
   "cell_type": "code",
   "execution_count": 10,
   "metadata": {},
   "outputs": [
    {
     "name": "stdout",
     "output_type": "stream",
     "text": [
      "[✔ Formatted] test/control/test_number.py\n",
      "[✓ Already formatted] test/addon/test_pydantic_compatible.py\n",
      "[✓ Already formatted] test/addon/test_annotated.py\n",
      "[✓ Already formatted] test/addon/test_intelli_type.py\n",
      "[✓ Already formatted] test/addon/test_packs.py\n",
      "\n",
      "✅ Total files processed: 5\n"
     ]
    }
   ],
   "source": [
    "format_all_py_files_recursive(\"./test\")"
   ]
  },
  {
   "cell_type": "code",
   "execution_count": 11,
   "metadata": {},
   "outputs": [],
   "source": [
    "from black import format_file_in_place, FileMode, WriteBack\n",
    "from pathlib import Path\n",
    "import subprocess\n",
    "\n",
    "def format_and_lint_py_files(root_dir: str):\n",
    "    \"\"\"\n",
    "    Format all .py files under root_dir using Black,\n",
    "    and report syntax/lint errors using flake8.\n",
    "    \n",
    "    Returns:\n",
    "        {\n",
    "            \"formatted\": [...],      # files formatted by Black\n",
    "            \"unchanged\": [...],      # files untouched by Black\n",
    "            \"errors\": { file: [msgs] }  # files with lint/syntax issues\n",
    "        }\n",
    "    \"\"\"\n",
    "    root = Path(root_dir)\n",
    "    formatted, unchanged, errors = [], [], {}\n",
    "\n",
    "    for file_path in root.rglob(\"*.py\"):\n",
    "        if file_path.is_file():\n",
    "            changed = format_file_in_place(\n",
    "                file_path,\n",
    "                fast=False,\n",
    "                mode=FileMode(),\n",
    "                write_back=WriteBack.YES\n",
    "            )\n",
    "            (formatted if changed else unchanged).append(str(file_path))\n",
    "\n",
    "            # Run flake8 on each file\n",
    "            try:\n",
    "                result = subprocess.run(\n",
    "                    [\"flake8\", str(file_path)],\n",
    "                    capture_output=True,\n",
    "                    text=True,\n",
    "                    check=False\n",
    "                )\n",
    "                if result.stdout:\n",
    "                    errors[str(file_path)] = result.stdout.strip().split(\"\\n\")\n",
    "            except Exception as e:\n",
    "                errors[str(file_path)] = [f\"[flake8 failed] {e}\"]\n",
    "\n",
    "    return {\n",
    "        \"formatted\": formatted,\n",
    "        \"unchanged\": unchanged,\n",
    "        \"errors\": errors,\n",
    "    }\n"
   ]
  },
  {
   "cell_type": "code",
   "execution_count": 13,
   "metadata": {},
   "outputs": [
    {
     "data": {
      "text/plain": [
       "{'formatted': [],\n",
       " 'unchanged': ['test/control/test_number.py',\n",
       "  'test/addon/test_pydantic_compatible.py',\n",
       "  'test/addon/test_annotated.py',\n",
       "  'test/addon/test_intelli_type.py',\n",
       "  'test/addon/test_packs.py'],\n",
       " 'errors': {'test/control/test_number.py': [\"test/control/test_number.py:15:38: F722 syntax error in forward annotation '(0,1]]'\"],\n",
       "  'test/addon/test_annotated.py': [\"test/addon/test_annotated.py:31:26: F722 syntax error in forward annotation 'Any Meta Data'\"]}}"
      ]
     },
     "execution_count": 13,
     "metadata": {},
     "output_type": "execute_result"
    }
   ],
   "source": [
    "format_and_lint_py_files(\"./test\")"
   ]
  }
 ],
 "metadata": {
  "kernelspec": {
   "display_name": "types",
   "language": "python",
   "name": "python3"
  },
  "language_info": {
   "codemirror_mode": {
    "name": "ipython",
    "version": 3
   },
   "file_extension": ".py",
   "mimetype": "text/x-python",
   "name": "python",
   "nbconvert_exporter": "python",
   "pygments_lexer": "ipython3",
   "version": "3.10.16"
  }
 },
 "nbformat": 4,
 "nbformat_minor": 2
}
